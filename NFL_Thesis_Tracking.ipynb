{
 "cells": [
  {
   "cell_type": "markdown",
   "id": "3673d52c",
   "metadata": {},
   "source": [
    "# NFL Data Tracking Analysis / Classification\n",
    "\n",
    "This notebook will go over an outline of how to utilize NFL tracking data to classify coverages and WR routes. I am using the framework outlined by this paper:\n",
    "\n",
    "Dutta et al, 2019, \"Unsupervised Methods for Identifying Pass Coverage Among Defensive Backs with NFL Player Tracking Data\" https://arxiv.org/abs/1906.11373\n",
    "\n",
    "The animations and plots of tracking data are from the following Kaggle notebooks:\n",
    "\n",
    "https://www.kaggle.com/robikscube/nfl-big-data-bowl-plotting-player-position\n",
    "\n",
    "https://www.kaggle.com/ar2017/nfl-big-data-bowl-2021-animating-players-movement\n",
    "\n",
    "The ultimate objective is first to follow the methodology of the paper to classify man vs zone in coverage, then adapt what was done to see if I can build an supervised classification model to identify routes run by the receiver if they were targeted.\n",
    "\n",
    "## Methods of the Paper\n",
    "\n",
    "First, they define a set of features from the tracking data that distinguish between \"man\" and \"zone\" coverage. They use mixture models to create clusters corresponding to each group, allowing them to provide probabilistic assignments to each coverage type (or cluster). Additionally, they quantify each feature’s influence in distinguishing defensive pass coverage types. First, I will attempt to replicate the features they built, only on week 1 of the tracking data just to test it out."
   ]
  },
  {
   "cell_type": "code",
   "execution_count": 1,
   "id": "92561d08",
   "metadata": {},
   "outputs": [],
   "source": [
    "import pandas as pd\n",
    "import numpy as np\n",
    "import seaborn as sns\n",
    "from ipywidgets import interact, fixed\n",
    "\n",
    "%matplotlib inline\n",
    "import matplotlib.pyplot as plt\n",
    "import matplotlib.patches as patches\n",
    "from matplotlib import animation\n",
    "from matplotlib.animation import FFMpegWriter\n",
    "pd.set_option('max_columns', 100)\n",
    "\n",
    "import dateutil\n",
    "from math import radians\n",
    "from IPython.display import Video\n",
    "\n",
    "from sklearn.mixture import GaussianMixture\n",
    "from sklearn.preprocessing import MinMaxScaler\n",
    "from sklearn.cluster import KMeans\n",
    "\n",
    "import os\n",
    "import warnings\n",
    "from tqdm import tqdm\n",
    "import gc\n",
    "warnings.filterwarnings('ignore')"
   ]
  },
  {
   "cell_type": "code",
   "execution_count": 2,
   "id": "3609d352",
   "metadata": {},
   "outputs": [],
   "source": [
    "plays = pd.read_csv('nfl-big-data-bowl/pass-2018.csv')\n",
    "players = pd.read_csv('nfl-big-data-bowl/players.csv')"
   ]
  },
  {
   "cell_type": "code",
   "execution_count": 3,
   "id": "25df6a31",
   "metadata": {},
   "outputs": [
    {
     "name": "stdout",
     "output_type": "stream",
     "text": [
      "Wall time: 37.5 s\n"
     ]
    }
   ],
   "source": [
    "%%time\n",
    "#week = pd.read_csv('nfl-big-data-bowl/week1.csv')\n",
    "week1 = pd.read_csv('nfl-big-data-bowl/week1.csv')\n",
    "week2 = pd.read_csv('nfl-big-data-bowl/week2.csv')\n",
    "week3 = pd.read_csv('nfl-big-data-bowl/week3.csv')\n",
    "week4 = pd.read_csv('nfl-big-data-bowl/week4.csv')\n",
    "week5 = pd.read_csv('nfl-big-data-bowl/week5.csv')\n",
    "week6 = pd.read_csv('nfl-big-data-bowl/week6.csv')\n",
    "week7 = pd.read_csv('nfl-big-data-bowl/week7.csv')\n",
    "week8 = pd.read_csv('nfl-big-data-bowl/week8.csv')\n",
    "week9 = pd.read_csv('nfl-big-data-bowl/week9.csv')\n",
    "week10 = pd.read_csv('nfl-big-data-bowl/week10.csv')\n",
    "week11 = pd.read_csv('nfl-big-data-bowl/week11.csv')\n",
    "week12 = pd.read_csv('nfl-big-data-bowl/week12.csv')\n",
    "week13 = pd.read_csv('nfl-big-data-bowl/week13.csv')\n",
    "week14 = pd.read_csv('nfl-big-data-bowl/week14.csv')\n",
    "week15 = pd.read_csv('nfl-big-data-bowl/week15.csv')\n",
    "week16 = pd.read_csv('nfl-big-data-bowl/week16.csv')\n",
    "week17 = pd.read_csv('nfl-big-data-bowl/week17.csv')\n",
    "week = pd.concat([week1, week2, week3, week4, week5,\n",
    "                  week6, week7, week8, week9, week10,\n",
    "                  week11, week12, week13, week14,\n",
    "                  week15, week16, week17], ignore_index=True)"
   ]
  },
  {
   "cell_type": "markdown",
   "id": "89b683fd",
   "metadata": {},
   "source": [
    "<img src=\"time-snap.png\" width=640 height=480 />\n",
    "\n",
    "We will create time periods of when the ball is snapped, split between the three sections similar to the image above from the paper. These sections will be \"before snap\", \"after snap, before throw\", and \"after throw\". I have information on when the ball is snapped and when the pass is thrown, so I will be able to create the variables required."
   ]
  },
  {
   "cell_type": "code",
   "execution_count": 4,
   "id": "4b3c1655",
   "metadata": {},
   "outputs": [
    {
     "name": "stdout",
     "output_type": "stream",
     "text": [
      "['None' 'ball_snap' 'pass_forward' 'pass_arrived' 'pass_outcome_caught'\n",
      " 'out_of_bounds' 'pass_outcome_incomplete' 'first_contact' 'tackle'\n",
      " 'man_in_motion' 'play_action' 'qb_sack' 'fumble'\n",
      " 'fumble_offense_recovered' 'handoff' 'pass_tipped'\n",
      " 'pass_outcome_interception' 'qb_strip_sack' 'pass_shovel' 'line_set'\n",
      " 'shift' 'touchdown' 'fumble_defense_recovered' 'pass_outcome_touchdown'\n",
      " 'run' 'touchback' 'penalty_flag' 'penalty_accepted' 'qb_spike'\n",
      " 'field_goal_blocked' 'punt_fake' 'snap_direct' 'run_pass_option'\n",
      " 'pass_lateral' 'lateral' 'field_goal_fake' 'huddle_start_offense'\n",
      " 'huddle_break_offense' 'timeout_home' 'safety' 'field_goal_play']\n"
     ]
    },
    {
     "data": {
      "text/plain": [
       "Index(['time', 'x', 'y', 's', 'a', 'dis', 'o', 'dir', 'event', 'nflId',\n",
       "       'displayName', 'jerseyNumber', 'position', 'frameId', 'team', 'gameId',\n",
       "       'playId', 'playDirection', 'route'],\n",
       "      dtype='object')"
      ]
     },
     "execution_count": 4,
     "metadata": {},
     "output_type": "execute_result"
    }
   ],
   "source": [
    "print(week['event'].unique())\n",
    "week.columns ## event is 8, frame is 13"
   ]
  },
  {
   "cell_type": "code",
   "execution_count": 5,
   "id": "ecf4a3fc",
   "metadata": {},
   "outputs": [
    {
     "name": "stderr",
     "output_type": "stream",
     "text": [
      "100%|██████████████████████████████████████████████████████████████████| 18309388/18309388 [00:27<00:00, 658019.31it/s]\n"
     ]
    }
   ],
   "source": [
    "# Convert dataframe to array to make iteration faster\n",
    "weekArray = np.array(week)\n",
    "# Create previous event variable to overwrite and check against when setting new ones\n",
    "prevEvent = 'ball_snap'\n",
    "\n",
    "for i, play in enumerate(tqdm(weekArray)):\n",
    "    # The \"event\" on the field, i.e. ball snap or between snap or after throw\n",
    "    event = play[8]\n",
    "    frameId = play[13]\n",
    "    # Create before snap category\n",
    "    # Set equal to \"ball_snap\" if not available yet, or if it is first frame of motion\n",
    "    if (prevEvent == 'ball_snap' and event != 'ball_snap') or frameId == 1:\n",
    "        weekArray[i][8] = 'ball_snap'\n",
    "        prevEvent = 'ball_snap'\n",
    "    # Default value for ball_snap in dataset was for the first frame the ball was actually snapped\n",
    "    elif (event == 'ball_snap'):\n",
    "        prevEvent = 'between_snap'\n",
    "    # Set value equal to \"between_snap\" if it is after snap and before pass thrown\n",
    "    elif (prevEvent == 'between_snap' and event != 'pass_forward'):\n",
    "        weekArray[i][8] = 'between_snap'\n",
    "        prevEvent = 'between_snap'\n",
    "    # Default value for \"pass_forward\" in dataset was for the first frame the ball left QB's hand\n",
    "    elif (event == 'pass_forward'):\n",
    "        weekArray[i][8] = 'after_throw'\n",
    "        prevEvent = 'after_throw'\n",
    "    # Extra cases where the ball has been thrown and is not the first frame of action\n",
    "    elif (prevEvent == 'after_throw' and frameId != 1):\n",
    "        weekArray[i][8] = 'after_throw'\n",
    "        prevEvent = 'after_throw'\n",
    "        \n",
    "weekMod = pd.DataFrame(weekArray, columns=week.columns)\n",
    "week['event'] = weekMod['event']\n",
    "weekMod = week"
   ]
  },
  {
   "cell_type": "code",
   "execution_count": 6,
   "id": "8d266c22",
   "metadata": {},
   "outputs": [
    {
     "name": "stdout",
     "output_type": "stream",
     "text": [
      "['before_snap' 'between_snap' 'after_throw']\n"
     ]
    }
   ],
   "source": [
    "week['event'] = ['before_snap' if e=='ball_snap' else e for e in week['event']]\n",
    "print(week['event'].unique()) ## desired result"
   ]
  },
  {
   "cell_type": "markdown",
   "id": "7e242a08",
   "metadata": {},
   "source": [
    "## Features generated in the paper\n",
    "\n",
    "The paper created the following features:\n",
    "\n",
    "<img src=\"feat-create.png\" width=640 height=480 />\n",
    "<img src=\"feat-create2.png\" width=640 height=480 />\n",
    "\n",
    "We will use similar features for all players, offensive and defensive. We create variance in x, y, and speed as outlined in the paper. Then we calculate distance from nearest opposing player and distance from nearest teammate, and their respective variances. We also create difference in direction between the player and their nearest opponent for each frame, then aggregate it by mean and variance. Finally, we create a ratio of distance of the nearest offensive player divided by distance of nearest offensive player to nearest defensive player at each frame, then aggregate it by mean and variance.\n",
    "\n",
    "Features added that were not described in the paper that are created include orientation of the player relative to the nearest opposing player, orientation of the player relative to the line of scrimmage, and orientation of the player relative to the position of the football."
   ]
  },
  {
   "cell_type": "code",
   "execution_count": 7,
   "id": "cd6d9076",
   "metadata": {},
   "outputs": [
    {
     "name": "stdout",
     "output_type": "stream",
     "text": [
      "Wall time: 13.8 s\n"
     ]
    }
   ],
   "source": [
    "%%time\n",
    "## var in the x, y, speed\n",
    "varX = weekMod.groupby(['gameId', 'playId', 'event', 'nflId'])['x']\\\n",
    ".agg(['var']).reset_index().rename(columns={\"var\": \"varX\"})\n",
    "varY = weekMod.groupby(['gameId', 'playId', 'event', 'nflId'])['y']\\\n",
    ".agg(['var']).reset_index().rename(columns={\"var\": \"varY\"})\n",
    "varS = weekMod.groupby(['gameId', 'playId', 'event', 'nflId'])['s']\\\n",
    ".agg(['var']).reset_index().rename(columns={\"var\": \"varS\"})"
   ]
  },
  {
   "cell_type": "code",
   "execution_count": 8,
   "id": "645b98e1",
   "metadata": {},
   "outputs": [
    {
     "name": "stderr",
     "output_type": "stream",
     "text": [
      "100%|███████████████████████████████████████████████████████████████████████| 1247711/1247711 [33:31<00:00, 620.22it/s]"
     ]
    },
    {
     "name": "stdout",
     "output_type": "stream",
     "text": [
      "Wall time: 34min 14s\n"
     ]
    },
    {
     "name": "stderr",
     "output_type": "stream",
     "text": [
      "\n"
     ]
    }
   ],
   "source": [
    "%%time\n",
    "## mean, var distance of nearest opposing player\n",
    "# first need to group by each frame of the play by the game\n",
    "groupedWeek = weekMod.groupby(['gameId', 'playId', 'frameId'])\n",
    "playerXY = {} # initialize dictionary of player coordinates and direction\n",
    "# get relevant player direction information\n",
    "for name, group in tqdm(groupedWeek):\n",
    "    playerXY[name] = [] # holds player id, home/away, x, y, dir, orientation\n",
    "    for row in group.iterrows():\n",
    "        data = [row[1]['nflId'], row[1]['team'], row[1]['x'], row[1]['y'], row[1]['dir'], row[1]['o']]\n",
    "        playerXY[name].append(data)"
   ]
  },
  {
   "cell_type": "code",
   "execution_count": 19,
   "id": "b7a9d50d",
   "metadata": {},
   "outputs": [
    {
     "name": "stderr",
     "output_type": "stream",
     "text": [
      "100%|███████████████████████████████████████████████████████████████████| 18309388/18309388 [09:52<00:00, 30881.82it/s]\n"
     ]
    },
    {
     "name": "stdout",
     "output_type": "stream",
     "text": [
      "Wall time: 13min 48s\n"
     ]
    }
   ],
   "source": [
    "%%time\n",
    "# get list of features\n",
    "features = list(weekMod.columns)\n",
    "# convert entire dataset to numpy array, to make iteration faster\n",
    "weekArray = np.array(weekMod)\n",
    "minOppDist = []\n",
    "# for each player in each frame, want to get their distance from nearest opposing player\n",
    "# this loop goes through each player in each frame\n",
    "for player in tqdm(weekArray):\n",
    "    if (player[features.index('position')] in ['SS','FS','CB']):\n",
    "        # exclude the actual tracking of the football\n",
    "        if player[features.index('team')] != 'football':\n",
    "            # grabs each opponent player ID, home/away, x, y, dir in each frame of play\n",
    "            opponentPositions = playerXY[(player[features.index('gameId')],\n",
    "                                          player[features.index('playId')],\n",
    "                                          player[features.index('frameId')])]\n",
    "            # create list to store following metrics\n",
    "            distances, directions, opponents, xs, ys, orients = [], [], [], [], [], []\n",
    "            # for the player distances, get each opponent in frame, then grab key metrics\n",
    "            for oppPos in opponentPositions:\n",
    "                # only apply to players not on same team (oppPos[1] is home/away/football marker)\n",
    "                if (player[features.index('team')] != oppPos[1]\n",
    "                and player[features.index('team')] != 'football'\n",
    "                and oppPos[1] != 'football'):\n",
    "                    # calculate squared difference in x coordinate between current player, opposing player\n",
    "                    dx = (player[features.index('x')] - oppPos[2])**2\n",
    "                    # same thing for y coordinate\n",
    "                    dy = (player[features.index('y')] - oppPos[3])**2\n",
    "                    # calculate distance, append it to list\n",
    "                    dist = np.sqrt(dx+dy)\n",
    "                    distances.append(dist)\n",
    "                    # append opponent direction to list\n",
    "                    directions.append(oppPos[4])\n",
    "                    # append opponent ID to list\n",
    "                    opponents.append(oppPos[0])\n",
    "                    # opponent X and Y coords\n",
    "                    xs.append(oppPos[2])\n",
    "                    ys.append(oppPos[3])\n",
    "                    # opponent orientation\n",
    "                    orients.append(oppPos[5])\n",
    "\n",
    "            # find closest player via minimum distance\n",
    "            # also log their direction and XY coords\n",
    "            if len(distances) != 0:\n",
    "                minDist = min(distances, default=0)\n",
    "                closestOpponent = opponents[np.argmin(distances)]\n",
    "                opponentDir = directions[np.argmin(distances)]\n",
    "                opponentX = xs[np.argmin(distances)]\n",
    "                opponentY = ys[np.argmin(distances)]\n",
    "                opponentO = orients[np.argmin(distances)]\n",
    "            else:\n",
    "                minDist, closestOpponent, opponentX, opponentY, opponentO = np.nan, np.nan, np.nan, np.nan, np.nan\n",
    "            # collect all of this to one list\n",
    "            summary = [player[features.index('gameId')],\n",
    "                       player[features.index('playId')],\n",
    "                       player[features.index('frameId')],\n",
    "                       player[features.index('nflId')],\n",
    "                       minDist, closestOpponent, opponentDir, opponentX, opponentY, opponentO]\n",
    "            # append to massive list for all observations\n",
    "            minOppDist.append(summary)\n",
    "\n",
    "# convert multidimensional list to pandas df\n",
    "minOppDist = pd.DataFrame(minOppDist, columns=['gameId', 'playId', 'frameId', 'nflId',\n",
    "                                               'oppMinDist', 'closestOpp(nflId)', 'oppDir', 'oppX', 'oppY', 'oppO'])\n",
    "# add these metrics to main df weekMod\n",
    "weekMod = pd.merge(weekMod, minOppDist, how='left', on=['gameId', 'frameId', 'playId', 'nflId'])\n",
    "\n",
    "# calculate nearest opponent distance variance and mean for each play\n",
    "oppVar = weekMod.groupby(['gameId', 'playId', 'event', 'nflId'])['oppMinDist']\\\n",
    ".agg(['var']).reset_index().rename(columns={\"var\": \"oppVar\"})\n",
    "oppMean = weekMod.groupby(['gameId', 'playId', 'event', 'nflId'])['oppMinDist']\\\n",
    ".agg(['mean']).reset_index().rename(columns={\"mean\": \"oppMean\"})"
   ]
  },
  {
   "cell_type": "code",
   "execution_count": 20,
   "id": "d04a4f8e",
   "metadata": {},
   "outputs": [
    {
     "name": "stderr",
     "output_type": "stream",
     "text": [
      "100%|███████████████████████████████████████████████████████████████████| 18312098/18312098 [10:02<00:00, 30374.88it/s]\n"
     ]
    },
    {
     "name": "stdout",
     "output_type": "stream",
     "text": [
      "Wall time: 15min 14s\n"
     ]
    }
   ],
   "source": [
    "%%time\n",
    "## mean, var distance of nearest teammate\n",
    "# same procedure as for opponent, but changing selection criteria to only same team\n",
    "features = list(weekMod.columns)\n",
    "weekArray = np.array(weekMod)\n",
    "minMateDist = []\n",
    "for player in tqdm(weekArray):\n",
    "    if (player[features.index('position')] in ['SS','FS','CB']):\n",
    "        if player[features.index('team')] != 'football':\n",
    "            matePositions = playerXY[(player[features.index('gameId')],\n",
    "                                      player[features.index('playId')],\n",
    "                                      player[features.index('frameId')])]\n",
    "            distances, mates, xs, ys, orients = [], [], [], [], []\n",
    "            for matePos in matePositions: \n",
    "                if (player[features.index('team')] == matePos[1]\n",
    "                and player[features.index('nflId')] != matePos[0]\n",
    "                and player[features.index('team')] != 'football'\n",
    "                and matePos[1] != 'football'):\n",
    "                    dx = (player[features.index('x')] - matePos[2])**2\n",
    "                    dy = (player[features.index('y')] - matePos[3])**2\n",
    "                    dist = np.sqrt(dx+dy)\n",
    "                    distances.append(dist)\n",
    "                    mates.append(matePos[0])\n",
    "                    xs.append(matePos[2])\n",
    "                    ys.append(matePos[3])\n",
    "                    orients.append(matePos[5])\n",
    "            minDist = min(distances)\n",
    "            closestMate = mates[np.argmin(distances)]\n",
    "            mateX = xs[np.argmin(distances)]\n",
    "            mateY = ys[np.argmin(distances)]\n",
    "            mateO = orients[np.argmin(distances)]\n",
    "            summary = [player[features.index('gameId')],\n",
    "                       player[features.index('playId')],\n",
    "                       player[features.index('frameId')],\n",
    "                       player[features.index('nflId')],\n",
    "                       minDist, closestMate, mateX, mateY, mateO]\n",
    "            minMateDist.append(summary)\n",
    "        \n",
    "minMateDist = pd.DataFrame(minMateDist, columns=['gameId', 'playId', 'frameId', 'nflId',\n",
    "                                                 'mateMinDist', 'closestMate(nflId)', 'mateX', 'mateY', 'mateO'])\n",
    "\n",
    "weekMod = pd.merge(weekMod, minMateDist, how='left', on=['gameId', 'frameId', 'playId', 'nflId'])\n",
    "\n",
    "mateVar = weekMod.groupby(['gameId', 'playId', 'event', 'nflId'])['mateMinDist']\\\n",
    ".agg(['var']).reset_index().rename(columns={\"var\": \"mateVar\"})\n",
    "mateMean = weekMod.groupby(['gameId', 'playId', 'event', 'nflId'])['mateMinDist']\\\n",
    ".agg(['mean']).reset_index().rename(columns={\"mean\": \"mateMean\"})"
   ]
  },
  {
   "cell_type": "code",
   "execution_count": 21,
   "id": "49bfb46c",
   "metadata": {},
   "outputs": [
    {
     "name": "stdout",
     "output_type": "stream",
     "text": [
      "Wall time: 12.5 s\n"
     ]
    }
   ],
   "source": [
    "%%time\n",
    "## create direction relative to opposition\n",
    "diffDir = np.absolute(weekMod['dir'] - weekMod['oppDir'])\n",
    "weekMod['diffDir'] = diffDir\n",
    "## create mean/var of direction relative to opposition\n",
    "oppDirVar = weekMod.groupby(['gameId', 'playId', 'event', 'nflId'])['diffDir']\\\n",
    ".agg(['var']).reset_index().rename(columns={\"var\": \"oppDirVar\"})\n",
    "oppDirMean = weekMod.groupby(['gameId', 'playId', 'event', 'nflId'])['diffDir']\\\n",
    ".agg(['mean']).reset_index().rename(columns={\"mean\": \"oppDirMean\"})\n",
    "\n",
    "## create ratio of distances\n",
    "ratio = weekMod['oppMinDist'] / np.sqrt((weekMod['oppX'] - weekMod['mateX'])**2 + (weekMod['oppY'] - weekMod['mateY'])**2)\n",
    "weekMod['oppMateDistRatio'] = ratio\n",
    "## create mean/var of ratios\n",
    "oppMateDistRatioMean = weekMod.groupby(['gameId', 'playId', 'event', 'nflId'])['oppMateDistRatio']\\\n",
    ".agg(['mean']).reset_index().rename(columns={\"mean\": \"meanOppMateDistRatio\"})\n",
    "oppMateDistRatioVar = weekMod.groupby(['gameId', 'playId', 'event', 'nflId'])['oppMateDistRatio']\\\n",
    ".agg(['var']).reset_index().rename(columns={\"var\": \"varOppMateDistRatio\"})"
   ]
  },
  {
   "cell_type": "code",
   "execution_count": 22,
   "id": "59bab8ea",
   "metadata": {},
   "outputs": [
    {
     "name": "stdout",
     "output_type": "stream",
     "text": [
      "Wall time: 11.7 s\n"
     ]
    }
   ],
   "source": [
    "%%time\n",
    "## create orientation relative to line of scrimmage on play\n",
    "orientMean = weekMod.groupby(['gameId', 'playId', 'event', 'nflId'])['o']\\\n",
    ".agg(['mean']).reset_index().rename(columns={\"mean\": \"orientMean\"})\n",
    "orientVar = weekMod.groupby(['gameId', 'playId', 'event', 'nflId'])['o']\\\n",
    ".agg(['var']).reset_index().rename(columns={\"var\": \"orientVar\"})\n",
    "\n",
    "## orientation relative to opposition location\n",
    "orientDiff = np.absolute(weekMod['o'] - weekMod['oppO'])\n",
    "weekMod['orientDiff'] = orientDiff\n",
    "## create mean/var of orientation relative to opposition\n",
    "oppOrientMean = weekMod.groupby(['gameId', 'playId', 'event', 'nflId'])['orientDiff']\\\n",
    ".agg(['mean']).reset_index().rename(columns={\"mean\": \"oppOrientMean\"})\n",
    "oppOrientVar = weekMod.groupby(['gameId', 'playId', 'event', 'nflId'])['orientDiff']\\\n",
    ".agg(['var']).reset_index().rename(columns={\"var\": \"oppOrientVar\"})"
   ]
  },
  {
   "cell_type": "code",
   "execution_count": 23,
   "id": "a57e97dc",
   "metadata": {},
   "outputs": [
    {
     "name": "stdout",
     "output_type": "stream",
     "text": [
      "Wall time: 2min 50s\n"
     ]
    }
   ],
   "source": [
    "%%time\n",
    "## collect created features and merge into main df\n",
    "features = [varX, varY, varS,\n",
    "            oppVar, oppMean,\n",
    "            mateVar, mateMean,\n",
    "            oppDirVar, oppDirMean,\n",
    "            oppMateDistRatioMean, oppMateDistRatioVar,\n",
    "            orientMean, orientVar, oppOrientMean, oppOrientVar]\n",
    "\n",
    "for feature in features:\n",
    "    weekMod = pd.merge(weekMod, feature, how='left', on=['gameId', 'event', 'playId', 'nflId'])"
   ]
  },
  {
   "cell_type": "code",
   "execution_count": 24,
   "id": "cff64914",
   "metadata": {},
   "outputs": [
    {
     "name": "stdout",
     "output_type": "stream",
     "text": [
      "Index(['varX', 'varY', 'varS', 'oppVar', 'oppMean', 'mateVar', 'mateMean',\n",
      "       'oppDirVar', 'oppDirMean', 'meanOppMateDistRatio',\n",
      "       'varOppMateDistRatio', 'orientMean', 'orientVar', 'oppOrientMean',\n",
      "       'oppOrientVar'],\n",
      "      dtype='object')\n"
     ]
    }
   ],
   "source": [
    "print(weekMod.columns[33:])"
   ]
  },
  {
   "cell_type": "code",
   "execution_count": 25,
   "id": "9b6e1ab3",
   "metadata": {},
   "outputs": [],
   "source": [
    "## send to csv so i don't have to keep doing this\n",
    "weekMod.to_csv('weekMod17.csv', index=False)"
   ]
  },
  {
   "cell_type": "code",
   "execution_count": 30,
   "id": "55b31b0b",
   "metadata": {},
   "outputs": [],
   "source": [
    "## send only relevant positions to csv\n",
    "weekMod.loc[weekMod['position'].isin(['WR','SS','FS','CB'])].to_csv('weekModpos.csv', index=False)"
   ]
  }
 ],
 "metadata": {
  "kernelspec": {
   "display_name": "Python 3",
   "language": "python",
   "name": "python3"
  },
  "language_info": {
   "codemirror_mode": {
    "name": "ipython",
    "version": 3
   },
   "file_extension": ".py",
   "mimetype": "text/x-python",
   "name": "python",
   "nbconvert_exporter": "python",
   "pygments_lexer": "ipython3",
   "version": "3.8.8"
  }
 },
 "nbformat": 4,
 "nbformat_minor": 5
}
